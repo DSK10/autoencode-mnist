{
  "nbformat": 4,
  "nbformat_minor": 0,
  "metadata": {
    "colab": {
      "name": "generate-mnist-autoencode",
      "provenance": [],
      "authorship_tag": "ABX9TyO4bA6ICIDpepZYc+zfnrHA"
    },
    "kernelspec": {
      "name": "python3",
      "display_name": "Python 3"
    },
    "language_info": {
      "name": "python"
    },
    "accelerator": "GPU"
  },
  "cells": [
    {
      "cell_type": "code",
      "metadata": {
        "colab": {
          "base_uri": "https://localhost:8080/"
        },
        "id": "T5rPf3R5zv9p",
        "outputId": "dbb08dfc-80eb-4662-c8f2-7017e51ab999"
      },
      "source": [
        "from keras.datasets import mnist\n",
        "import numpy as np\n",
        "np.set_printoptions(precision=2)\n",
        "\n",
        "import matplotlib.pyplot as plt\n",
        "\n",
        "(x_train, y_train), (x_test, y_test) = mnist.load_data();"
      ],
      "execution_count": 2,
      "outputs": [
        {
          "output_type": "stream",
          "name": "stdout",
          "text": [
            "Downloading data from https://storage.googleapis.com/tensorflow/tf-keras-datasets/mnist.npz\n",
            "11493376/11490434 [==============================] - 0s 0us/step\n",
            "11501568/11490434 [==============================] - 0s 0us/step\n"
          ]
        }
      ]
    },
    {
      "cell_type": "code",
      "metadata": {
        "id": "NQGCgvMk0oeZ"
      },
      "source": [
        "from keras.layers import Input, Dense\n",
        "from keras.models import Model"
      ],
      "execution_count": 3,
      "outputs": []
    },
    {
      "cell_type": "code",
      "metadata": {
        "id": "LPurtH7Zz8pR"
      },
      "source": [
        "x_train = x_train.astype('float32') / 255.\n",
        "x_test = x_test.astype('float32') / 255."
      ],
      "execution_count": 4,
      "outputs": []
    },
    {
      "cell_type": "code",
      "metadata": {
        "colab": {
          "base_uri": "https://localhost:8080/"
        },
        "id": "Y1hZ6Ovtz-Ms",
        "outputId": "116a7e04-6a27-432f-a304-99cea2dfdc41"
      },
      "source": [
        "x_train_flat = x_train.reshape((len(x_train), 28*28))\n",
        "x_test_flat = x_test.reshape((len(x_test), 28*28))\n",
        "print(x_train_flat.shape)\n",
        "print(x_test_flat.shape)"
      ],
      "execution_count": 5,
      "outputs": [
        {
          "output_type": "stream",
          "name": "stdout",
          "text": [
            "(60000, 784)\n",
            "(10000, 784)\n"
          ]
        }
      ]
    },
    {
      "cell_type": "code",
      "metadata": {
        "id": "8P0gxNYu0Fop"
      },
      "source": [
        "from sklearn.preprocessing import MinMaxScaler\n",
        "s = MinMaxScaler().fit(x_train_flat)\n",
        "x_train_scaled = s.transform(x_train_flat)"
      ],
      "execution_count": 6,
      "outputs": []
    },
    {
      "cell_type": "code",
      "metadata": {
        "id": "Ofz06DkL0GMu"
      },
      "source": [
        "ENCODING_DIM = 64\n",
        "HIDDEN_DIM = 256\n",
        "# Encoder model\n",
        "inputs = Input(shape=(784,)) \n",
        "encoded = Dense(ENCODING_DIM, activation=\"relu\")(inputs)\n",
        "encoder_hidden = Dense(HIDDEN_DIM, activation=\"sigmoid\")(encoded)\n",
        "encoder_model = Model(inputs, encoded, name='encoder')\n",
        "\n",
        "# Decoder model\n",
        "encoded_inputs = Input(shape=(ENCODING_DIM,), name='encoding')\n",
        "decoder_hidden = Dense(HIDDEN_DIM, activation=\"relu\")(encoded_inputs)\n",
        "reconstruction = Dense(784, activation=\"sigmoid\")(decoder_hidden)\n",
        "decoder_model = Model(encoded_inputs, reconstruction, name='decoder')\n",
        "\n",
        "# Defining the full model as the combination of the two\n",
        "outputs = decoder_model(encoder_model(inputs))\n",
        "full_model = Model(inputs, outputs, name='full_ae')"
      ],
      "execution_count": 7,
      "outputs": []
    },
    {
      "cell_type": "code",
      "metadata": {
        "id": "1tZl6Usg0S4B"
      },
      "source": [
        "full_model = None\n",
        "full_model = Model(inputs=inputs, \n",
        "                   outputs=outputs)\n",
        "\n",
        "full_model.compile(optimizer='rmsprop',\n",
        "                 loss='binary_crossentropy',\n",
        "                 metrics=['accuracy'])"
      ],
      "execution_count": 8,
      "outputs": []
    },
    {
      "cell_type": "code",
      "metadata": {
        "colab": {
          "base_uri": "https://localhost:8080/"
        },
        "id": "4Fodstqh8-17",
        "outputId": "e24aeb7a-807c-4af4-a53e-e5dff332ed3b"
      },
      "source": [
        "full_model.summary()"
      ],
      "execution_count": 9,
      "outputs": [
        {
          "output_type": "stream",
          "name": "stdout",
          "text": [
            "Model: \"model\"\n",
            "_________________________________________________________________\n",
            "Layer (type)                 Output Shape              Param #   \n",
            "=================================================================\n",
            "input_1 (InputLayer)         [(None, 784)]             0         \n",
            "_________________________________________________________________\n",
            "encoder (Functional)         (None, 64)                50240     \n",
            "_________________________________________________________________\n",
            "decoder (Functional)         (None, 784)               218128    \n",
            "=================================================================\n",
            "Total params: 268,368\n",
            "Trainable params: 268,368\n",
            "Non-trainable params: 0\n",
            "_________________________________________________________________\n"
          ]
        }
      ]
    },
    {
      "cell_type": "code",
      "metadata": {
        "colab": {
          "base_uri": "https://localhost:8080/"
        },
        "id": "xOx6JfS80foh",
        "outputId": "ce5d3464-8981-4b11-e874-6aea04ebfc25"
      },
      "source": [
        "\n",
        "history = full_model.fit(x_train_scaled, x_train_flat, shuffle=True, epochs=10,)"
      ],
      "execution_count": 10,
      "outputs": [
        {
          "output_type": "stream",
          "name": "stdout",
          "text": [
            "Epoch 1/10\n",
            "1875/1875 [==============================] - 9s 3ms/step - loss: 0.1183 - accuracy: 0.0120\n",
            "Epoch 2/10\n",
            "1875/1875 [==============================] - 6s 3ms/step - loss: 0.0870 - accuracy: 0.0125\n",
            "Epoch 3/10\n",
            "1875/1875 [==============================] - 6s 3ms/step - loss: 0.0818 - accuracy: 0.0140\n",
            "Epoch 4/10\n",
            "1875/1875 [==============================] - 6s 3ms/step - loss: 0.0791 - accuracy: 0.0136\n",
            "Epoch 5/10\n",
            "1875/1875 [==============================] - 6s 3ms/step - loss: 0.0775 - accuracy: 0.0148\n",
            "Epoch 6/10\n",
            "1875/1875 [==============================] - 6s 3ms/step - loss: 0.0765 - accuracy: 0.0152\n",
            "Epoch 7/10\n",
            "1875/1875 [==============================] - 6s 3ms/step - loss: 0.0757 - accuracy: 0.0150\n",
            "Epoch 8/10\n",
            "1875/1875 [==============================] - 6s 3ms/step - loss: 0.0751 - accuracy: 0.0149\n",
            "Epoch 9/10\n",
            "1875/1875 [==============================] - 6s 3ms/step - loss: 0.0746 - accuracy: 0.0148\n",
            "Epoch 10/10\n",
            "1875/1875 [==============================] - 6s 3ms/step - loss: 0.0743 - accuracy: 0.0144\n"
          ]
        }
      ]
    },
    {
      "cell_type": "code",
      "metadata": {
        "colab": {
          "base_uri": "https://localhost:8080/",
          "height": 543
        },
        "id": "A97oh6Ay1Hor",
        "outputId": "263faf0d-79cd-497b-830d-56f1673afaf0"
      },
      "source": [
        "import matplotlib.pyplot as plt\n",
        "\n",
        "\n",
        "def plot_graphs(history, string):\n",
        "  plt.plot(history.history[string])\n",
        "  plt.xlabel(\"Epochs\")\n",
        "  plt.ylabel(string)\n",
        "  plt.show()\n",
        "  \n",
        "plot_graphs(history, \"accuracy\")\n",
        "plot_graphs(history, \"loss\")"
      ],
      "execution_count": 11,
      "outputs": [
        {
          "output_type": "display_data",
          "data": {
            "image/png": "[encoded data removed]",
            "text/plain": [
              "<Figure size 432x288 with 1 Axes>"
            ]
          },
          "metadata": {
            "needs_background": "light"
          }
        },
        {
          "output_type": "display_data",
          "data": {
            "image/png": "[encoded data removed]",
            "text/plain": [
              "<Figure size 432x288 with 1 Axes>"
            ]
          },
          "metadata": {
            "needs_background": "light"
          }
        }
      ]
    },
    {
      "cell_type": "code",
      "metadata": {
        "id": "dKEo2g_51YFS"
      },
      "source": [
        "def mse_reconstruction(true, reconstructed):\n",
        "    return np.sum(np.power(true - reconstructed, 2) / true.shape[1])"
      ],
      "execution_count": 12,
      "outputs": []
    },
    {
      "cell_type": "code",
      "metadata": {
        "colab": {
          "base_uri": "https://localhost:8080/"
        },
        "id": "_U6ul2jw0Um2",
        "outputId": "7111829e-358a-41e1-d6e3-96e4dab7783c"
      },
      "source": [
        "# Generate reconstructed images\n",
        "decoded_images = full_model.predict(x_test_flat)\n",
        "mse_reconstruction(decoded_images, x_test_flat)"
      ],
      "execution_count": 13,
      "outputs": [
        {
          "output_type": "execute_result",
          "data": {
            "text/plain": [
              "40.82836"
            ]
          },
          "metadata": {},
          "execution_count": 13
        }
      ]
    },
    {
      "cell_type": "code",
      "metadata": {
        "colab": {
          "base_uri": "https://localhost:8080/",
          "height": 282
        },
        "id": "KDI9Ud0C0XGE",
        "outputId": "877ba5bb-6cb3-46c9-8f95-78a45cfa86d8"
      },
      "source": [
        "#generated image\n",
        "plt.imshow(decoded_images[0].reshape(28,28))"
      ],
      "execution_count": 14,
      "outputs": [
        {
          "output_type": "execute_result",
          "data": {
            "text/plain": [
              "<matplotlib.image.AxesImage at 0x7f6ba00cdc50>"
            ]
          },
          "metadata": {},
          "execution_count": 14
        },
        {
          "output_type": "display_data",
          "data": {
            "image/png": "[encoded data removed]",
            "text/plain": [
              "<Figure size 432x288 with 1 Axes>"
            ]
          },
          "metadata": {
            "needs_background": "light"
          }
        }
      ]
    },
    {
      "cell_type": "code",
      "metadata": {
        "colab": {
          "base_uri": "https://localhost:8080/",
          "height": 282
        },
        "id": "vAUj64JU1cZI",
        "outputId": "cbdb19de-5796-4cb7-9117-6fe4763fe88d"
      },
      "source": [
        "#orignal image\n",
        "plt.imshow(x_test[0])"
      ],
      "execution_count": 16,
      "outputs": [
        {
          "output_type": "execute_result",
          "data": {
            "text/plain": [
              "<matplotlib.image.AxesImage at 0x7f6b66d30310>"
            ]
          },
          "metadata": {},
          "execution_count": 16
        },
        {
          "output_type": "display_data",
          "data": {
            "image/png": "[encoded data removed]",
            "text/plain": [
              "<Figure size 432x288 with 1 Axes>"
            ]
          },
          "metadata": {
            "needs_background": "light"
          }
        }
      ]
    },
    {
      "cell_type": "code",
      "metadata": {
        "id": "U5TwFrNa8w5r"
      },
      "source": [
        ""
      ],
      "execution_count": 15,
      "outputs": []
    }
  ]
}